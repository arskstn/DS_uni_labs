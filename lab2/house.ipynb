{
 "cells": [
  {
   "cell_type": "markdown",
   "id": "8ec1ee55",
   "metadata": {},
   "source": [
    "Сделал Костин А.С. гр.8Е21. Все лежит там https://github.com/arskstn/LB2, csv-шки тоже"
   ]
  },
  {
   "cell_type": "code",
   "execution_count": null,
   "id": "c34833b6",
   "metadata": {},
   "outputs": [],
   "source": [
    "import pandas as pd\n",
    "import numpy as np\n",
    "import matplotlib.pyplot as plt\n",
    "from sklearn.metrics import mean_squared_error\n",
    "from sklearn.model_selection import train_test_split, cross_val_score\n",
    "from xgboost import XGBRegressor"
   ]
  },
  {
   "cell_type": "code",
   "execution_count": null,
   "id": "b32c8913",
   "metadata": {},
   "outputs": [],
   "source": [
    "train = pd.read_csv('home-data-for-ml-course/train.csv')\n",
    "test = pd.read_csv('home-data-for-ml-course/test.csv')"
   ]
  },
  {
   "cell_type": "code",
   "execution_count": null,
   "id": "ae662bde",
   "metadata": {},
   "outputs": [],
   "source": [
    "missing = train.isnull().sum()\n",
    "print(\"Пропущенные значения:\\n\", missing[missing > 0].sort_values(ascending=False))"
   ]
  },
  {
   "cell_type": "code",
   "execution_count": null,
   "id": "cb8842f1",
   "metadata": {},
   "outputs": [],
   "source": [
    "print(\"\\nТипы данных:\\n\", train.dtypes)"
   ]
  },
  {
   "cell_type": "code",
   "execution_count": null,
   "id": "29ab87a2",
   "metadata": {},
   "outputs": [],
   "source": [
    "numeric_cols = train.select_dtypes(include=['int64', 'float64']).columns\n",
    "train[numeric_cols] = train[numeric_cols].fillna(train[numeric_cols].median())\n",
    "test[numeric_cols.drop('SalePrice')] = test[numeric_cols.drop('SalePrice')].fillna(test[numeric_cols.drop('SalePrice')].median())\n",
    "\n",
    "categorical_cols = train.select_dtypes(include=['object']).columns\n",
    "train[categorical_cols] = train[categorical_cols].fillna('None')\n",
    "test[categorical_cols] = test[categorical_cols].fillna('None')"
   ]
  },
  {
   "cell_type": "code",
   "execution_count": null,
   "id": "f4b7e6e4",
   "metadata": {},
   "outputs": [],
   "source": [
    "train = pd.get_dummies(train, columns=categorical_cols, drop_first=True)\n",
    "test = pd.get_dummies(test, columns=categorical_cols, drop_first=True)\n",
    "\n",
    "train, test = train.align(test, join='left', axis=1, fill_value=0)"
   ]
  },
  {
   "cell_type": "code",
   "execution_count": null,
   "id": "7c2e8f4e",
   "metadata": {},
   "outputs": [],
   "source": [
    "X = train.drop(['Id', 'SalePrice'], axis=1)\n",
    "y = np.log1p(train['SalePrice'])\n",
    "X_test = test.drop(['Id'], axis=1)\n",
    "\n",
    "X_train, X_val, y_train, y_val = train_test_split(X, y, test_size=0.2, random_state=42)"
   ]
  },
  {
   "cell_type": "code",
   "execution_count": null,
   "id": "b7e8d6e5",
   "metadata": {},
   "outputs": [],
   "source": [
    "xgb = XGBRegressor(n_estimators=1000, learning_rate=0.05, max_depth=6, random_state=42)\n",
    "xgb.fit(X_train, y_train)"
   ]
  },
  {
   "cell_type": "code",
   "execution_count": null,
   "id": "c0e9d7f6",
   "metadata": {},
   "outputs": [],
   "source": [
    "y_pred = xgb.predict(X_val)\n",
    "rmse = np.sqrt(mean_squared_error(y_val, y_pred))\n",
    "print(\"RMSE на валидационной выборке:\", rmse)"
   ]
  },
  {
   "cell_type": "code",
   "execution_count": null,
   "id": "d2addcb8",
   "metadata": {},
   "outputs": [],
   "source": [
    "plt.figure(figsize=(10, 6))\n",
    "plt.scatter(y_val, y_pred, alpha=0.5)\n",
    "plt.plot([y_val.min(), y_val.max()], [y_val.min(), y_val.max()], 'r--')\n",
    "plt.xlabel('Фактический LogSalePrice')\n",
    "plt.ylabel('Предсказанный LogSalePrice')\n",
    "plt.title('Предсказанные vs Фактические значения LogSalePrice (XGBoost)')\n",
    "plt.show()"
   ]
  },
  {
   "cell_type": "code",
   "execution_count": null,
   "id": "e2f9c8a9",
   "metadata": {},
   "outputs": [],
   "source": [
    "rmse_cv = np.sqrt(-cross_val_score(xgb, X, y, cv=5, scoring='neg_mean_squared_error').mean())\n",
    "print(\"Средний RMSE по 5-кратной кросс-валидации:\", rmse_cv)\n",
    "\n",
    "test_preds = np.expm1(xgb.predict(X_test))\n",
    "submission = pd.DataFrame({'Id': test['Id'], 'SalePrice': test_preds})\n",
    "submission.to_csv('submission.csv', index=False)\n",
    "print(\"Файл submission.csv создан\")"
   ]
  }
 ],
 "metadata": {
  "kernelspec": {
   "display_name": "Python 3",
   "language": "python",
   "name": "python3"
  },
  "language_info": {
   "codemirror_mode": {
    "name": "ipython",
    "version": 3
   },
   "file_extension": ".py",
   "mimetype": "text/x-python",
   "name": "python",
   "nbconvert_exporter": "python",
   "pygments_lexer": "ipython3",
   "version": "3.11.11"
  }
 },
 "nbformat": 4,
 "nbformat_minor": 5
}
