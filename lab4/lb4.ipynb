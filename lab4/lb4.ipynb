{
 "cells": [
  {
   "cell_type": "markdown",
   "id": "f4705475",
   "metadata": {},
   "source": [
    "Лабораторная работа №4\n",
    "\"Построение рекомендательной системы на основе коллаборативной фильтрации\""
   ]
  },
  {
   "cell_type": "markdown",
   "id": "14ebb19c",
   "metadata": {},
   "source": [
    "Цель:\n",
    "\n",
    "Познакомиться с базовыми подходами к построению рекомендательных систем. Научиться использовать пользовательские взаимодействия для генерации рекомендаций."
   ]
  },
  {
   "cell_type": "markdown",
   "id": "f5391800",
   "metadata": {},
   "source": [
    "📋 Часть 1: Теоретическое введение\n",
    "\n",
    "#Рекомендательная система\n",
    "Рекомендательная система — это алгоритм или система, которая предлагает пользователям товары, услуги или контент (например, фильмы, музыку, статьи) на основе их предпочтений, поведения или данных других пользователей. Такие системы используются в интернет-магазинах (Amazon), стриминговых сервисах (Netflix, Spotify) и социальных сетях.\n",
    "\n",
    "#Content-based filtering (контентный подход):\n",
    "Рекомендации основаны на характеристиках самих объектов (например, жанр фильма, описание товара) и предпочтениях пользователя. Если пользователь смотрел комедии, система предложит другие комедии.\n",
    "Преимущества: Не зависит от данных других пользователей, работает с новыми элементами.\n",
    "Недостатки: Требует качественных данных о характеристиках объектов, может ограничивать разнообразие рекомендаций.\n",
    "\n",
    "#Collaborative filtering (коллаборативная фильтрация):\n",
    "Рекомендации основаны на взаимодействиях пользователей с объектами. Если два пользователя имеют схожие оценки или покупки, система предложит им похожие товары.\n",
    "Преимущества: Не требует данных о характеристиках объектов, может выявлять неожиданные связи.\n",
    "Недостатки: Проблема \"холодного старта\" (не работает для новых пользователей/объектов), требует больших данных.\n",
    "\n",
    "#Матрица взаимодействий\n",
    "Матрица взаимодействий — это таблица, где строки представляют пользователей, столбцы — объекты (например, товары или фильмы), а значения — взаимодействия (оценки, покупки, просмотры). Обычно матрица разреженная (sparse), так как пользователи взаимодействуют только с небольшим количеством объектов. Пример:\n",
    "Пользователь 1 оценил фильм A на 5, фильм B на 3, а фильм C не смотрел → строка: [5, 3, NaN].\n",
    "Используется в коллаборативной фильтрации для анализа схожести пользователей или объектов.\n",
    "\n",
    "#User2User (пользователь-пользователь):\n",
    "Подход в коллаборативной фильтрации, где система находит пользователей, похожих на целевого (по их взаимодействиям), и рекомендует объекты, которые понравились этим похожим пользователям.\n",
    "Пример: Если пользователь A и B оба высоко оценили фильмы X и Y, а B также оценил фильм Z, то A порекомендуют Z.\n",
    "Проблемы: Высокая вычислительная сложность при большом числе пользователей.\n",
    "\n",
    "#Item2Item (объект-объект):\n",
    "Подход в коллаборативной фильтрации, где система находит объекты, похожие на те, с которыми пользователь уже взаимодействовал, и рекомендует их.\n",
    "Пример: Если пользователь A посмотрел фильм X, а фильм X часто смотрят вместе с фильмом Y, то порекомендуют Y.\n",
    "Преимущества: Более масштабируемый, так как объектов обычно меньше, чем пользователей, и схожесть между объектами меняется реже."
   ]
  },
  {
   "cell_type": "code",
   "execution_count": 4,
   "id": "78823d31",
   "metadata": {},
   "outputs": [
    {
     "name": "stdout",
     "output_type": "stream",
     "text": [
      "Рекомендованный фильм для userId=1 (User-based с нормализацией): movieId=2329\n",
      "Похожие фильмы на movieId=16 (Item-based с нормализацией): [7158, 5131, 5534, 34767, 48711]\n",
      "Топ-5 рекомендованных фильмов для userId=1 (SVD): [2329, 88125, 800, 923, 4226]\n"
     ]
    }
   ],
   "source": [
    "import pandas as pd\n",
    "import numpy as np\n",
    "from sklearn.metrics.pairwise import cosine_similarity\n",
    "from surprise import SVD, Dataset, Reader\n",
    "from surprise.model_selection import train_test_split\n",
    "from collections import defaultdict\n",
    "\n",
    "\n",
    "df = pd.read_csv('DS_uni_labs/lab4/ratings.csv')\n",
    "# Нормализация рейтингов\n",
    "user_means = df.groupby('userId')['rating'].mean()\n",
    "df['normalized_rating'] = df.apply(lambda x: x['rating'] - user_means[x['userId']], axis=1)\n",
    "\n",
    "# Задание 1\n",
    "user_item_matrix = pd.pivot_table(df, values='normalized_rating', index='userId', columns='movieId', fill_value=0)\n",
    "user_item_matrix_raw = pd.pivot_table(df, values='rating', index='userId', columns='movieId', fill_value=0)\n",
    "user_item_matrix_np = user_item_matrix.to_numpy()\n",
    "\n",
    "# Задание 2\n",
    "user_similarity = cosine_similarity(user_item_matrix_np)\n",
    "user_similarity_df = pd.DataFrame(user_similarity, index=user_item_matrix.index, columns=user_item_matrix.index)\n",
    "\n",
    "target_user_id = 1\n",
    "target_user_idx = user_item_matrix.index.get_loc(target_user_id)\n",
    "similar_users = user_similarity_df.iloc[target_user_idx].sort_values(ascending=False)[1:6]\n",
    "similar_user_ids = similar_users.index\n",
    "\n",
    "target_user_ratings = user_item_matrix_raw.loc[target_user_id]\n",
    "unrated_movies = target_user_ratings[target_user_ratings == 0].index\n",
    "recommended_movies = user_item_matrix_raw.loc[similar_user_ids, unrated_movies]\n",
    "recommended_movie = recommended_movies.mean().sort_values(ascending=False).index[0]\n",
    "\n",
    "print(f\"Рекомендованный фильм для userId={target_user_id} (User-based с нормализацией): movieId={recommended_movie}\")\n",
    "\n",
    "# Задание 3\n",
    "item_user_matrix_np = user_item_matrix_np.T\n",
    "item_similarity = cosine_similarity(item_user_matrix_np)\n",
    "item_similarity_df = pd.DataFrame(item_similarity, index=user_item_matrix.columns, columns=user_item_matrix.columns)\n",
    "\n",
    "rated_movie_id = 16\n",
    "rated_movie_idx = user_item_matrix.columns.get_loc(rated_movie_id)\n",
    "similar_movies = item_similarity_df.iloc[rated_movie_idx].sort_values(ascending=False)[1:6]\n",
    "similar_movie_ids = similar_movies.index\n",
    "\n",
    "print(f\"Похожие фильмы на movieId={rated_movie_id} (Item-based с нормализацией): {similar_movie_ids.tolist()}\")\n",
    "\n",
    "# свдшка\n",
    "reader = Reader(rating_scale=(0.5, 5))\n",
    "data = Dataset.load_from_df(df[['userId', 'movieId', 'rating']], reader)\n",
    "trainset, testset = train_test_split(data, test_size=0.2, random_state=42)\n",
    "\n",
    "svd = SVD(n_factors=50, n_epochs=20, lr_all=0.005, reg_all=0.02, random_state=42)\n",
    "svd.fit(trainset)\n",
    "\n",
    "# Задание 4\n",
    "def get_top_n_svd(user_id, n=5):\n",
    "    all_movies = user_item_matrix.columns\n",
    "    rated_movies = user_item_matrix_raw.loc[user_id][user_item_matrix_raw.loc[user_id] > 0].index\n",
    "    unrated_movies = [movie for movie in all_movies if movie not in rated_movies]\n",
    "    \n",
    "    predictions = [(movie, svd.predict(user_id, movie).est) for movie in unrated_movies]\n",
    "    predictions.sort(key=lambda x: x[1], reverse=True)\n",
    "    top_n = predictions[:n]\n",
    "    return [movie for movie, _ in top_n]\n",
    "\n",
    "top_5_svd = get_top_n_svd(target_user_id, n=5)\n",
    "print(f\"Топ-5 рекомендованных фильмов для userId={target_user_id} (SVD): {top_5_svd}\")"
   ]
  }
 ],
 "metadata": {
  "kernelspec": {
   "display_name": "ml_env",
   "language": "python",
   "name": "ml_env"
  },
  "language_info": {
   "codemirror_mode": {
    "name": "ipython",
    "version": 3
   },
   "file_extension": ".py",
   "mimetype": "text/x-python",
   "name": "python",
   "nbconvert_exporter": "python",
   "pygments_lexer": "ipython3",
   "version": "3.12.3"
  }
 },
 "nbformat": 4,
 "nbformat_minor": 5
}
